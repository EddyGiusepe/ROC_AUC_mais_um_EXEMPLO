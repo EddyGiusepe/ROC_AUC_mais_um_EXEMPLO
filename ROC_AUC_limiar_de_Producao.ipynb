{
  "cells": [
    {
      "cell_type": "markdown",
      "metadata": {
        "id": "view-in-github",
        "colab_type": "text"
      },
      "source": [
        "<a href=\"https://colab.research.google.com/github/EddyGiusepe/ROC_AUC_mais_um_EXEMPLO/blob/main/ROC_AUC_limiar_de_Producao.ipynb\" target=\"_parent\"><img src=\"https://colab.research.google.com/assets/colab-badge.svg\" alt=\"Open In Colab\"/></a>"
      ]
    },
    {
      "cell_type": "markdown",
      "metadata": {
        "id": "weun8LEhabZC"
      },
      "source": [
        "# Interpretando os resultados do seu modelo\n",
        "\n",
        "Este Script foi baseado no seguinte Data Scientist: [Vinícius Galvão](https://www.youtube.com/watch?v=YBZHJANH5jY)."
      ]
    },
    {
      "cell_type": "markdown",
      "source": [
        "![image.png](data:image/png;base64,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)"
      ],
      "metadata": {
        "id": "bztBH1IXa6TR"
      }
    },
    {
      "cell_type": "markdown",
      "metadata": {
        "id": "u9ltoNBxabZE"
      },
      "source": [
        "## O que vamos aprender?\n",
        "\n",
        "- Avaliar o modelo utilizando somente a acurácia é uma boa ideia?\n",
        "- O que é e como interpretar uma Matriz de Confusão\n",
        "- Métricas calculadas a partir da matriz de confusão\n",
        "- Como alterar a performance de um modelo alterando o limiar de predição\n",
        "- Curva ROC\n",
        "- AUC"
      ]
    },
    {
      "cell_type": "markdown",
      "metadata": {
        "id": "JMXGpOuIabZF"
      },
      "source": [
        "#### Dataset Câncer de Mama:\n",
        "* 569 instâncias, no qual cada instância representa um tecido mamário;\n",
        "* 30 atributos, que são representados pelas colunas 2 até a coluna 32;\n",
        "* As classes das instâncias correspondem se o tumor é maligno ou benigno, representadas pela segunda coluna, a coluna diagnosis;\n",
        "* Trata-se de um problema de classificação."
      ]
    },
    {
      "cell_type": "code",
      "source": [
        "from google.colab import drive\n",
        "drive.mount('/content/drive')"
      ],
      "metadata": {
        "colab": {
          "base_uri": "https://localhost:8080/"
        },
        "id": "LFKP88mmcLpW",
        "outputId": "9f95325c-5906-4403-e806-c7fd7c6a02fd"
      },
      "execution_count": 20,
      "outputs": [
        {
          "output_type": "stream",
          "name": "stdout",
          "text": [
            "Drive already mounted at /content/drive; to attempt to forcibly remount, call drive.mount(\"/content/drive\", force_remount=True).\n"
          ]
        }
      ]
    },
    {
      "cell_type": "code",
      "execution_count": 2,
      "metadata": {
        "id": "BOO8EXWCabZG"
      },
      "outputs": [],
      "source": [
        "# Abrindo nosso dataset \n",
        "import pandas as pd\n",
        "cancer = pd.read_csv('/content/drive/MyDrive/Breast-cancer-videos/breast-cancer-wisconsin-data/data.csv', index_col=0)\n",
        "\n"
      ]
    },
    {
      "cell_type": "code",
      "source": [
        "cancer.shape"
      ],
      "metadata": {
        "colab": {
          "base_uri": "https://localhost:8080/"
        },
        "id": "RwIXcBjJdGjr",
        "outputId": "69972117-f338-43b0-dc21-7e6fc285eb4c"
      },
      "execution_count": 3,
      "outputs": [
        {
          "output_type": "execute_result",
          "data": {
            "text/plain": [
              "(569, 32)"
            ]
          },
          "metadata": {},
          "execution_count": 3
        }
      ]
    },
    {
      "cell_type": "code",
      "source": [
        "cancer.sample(10)"
      ],
      "metadata": {
        "colab": {
          "base_uri": "https://localhost:8080/",
          "height": 476
        },
        "id": "Pk7s-j0YdDOC",
        "outputId": "064b1fd4-0598-48ac-d22f-69c3b8e6cfc4"
      },
      "execution_count": 4,
      "outputs": [
        {
          "output_type": "execute_result",
          "data": {
            "text/html": [
              "\n",
              "  <div id=\"df-37df6b76-cd48-4044-af5e-15885cf263ea\">\n",
              "    <div class=\"colab-df-container\">\n",
              "      <div>\n",
              "<style scoped>\n",
              "    .dataframe tbody tr th:only-of-type {\n",
              "        vertical-align: middle;\n",
              "    }\n",
              "\n",
              "    .dataframe tbody tr th {\n",
              "        vertical-align: top;\n",
              "    }\n",
              "\n",
              "    .dataframe thead th {\n",
              "        text-align: right;\n",
              "    }\n",
              "</style>\n",
              "<table border=\"1\" class=\"dataframe\">\n",
              "  <thead>\n",
              "    <tr style=\"text-align: right;\">\n",
              "      <th></th>\n",
              "      <th>diagnosis</th>\n",
              "      <th>radius_mean</th>\n",
              "      <th>texture_mean</th>\n",
              "      <th>perimeter_mean</th>\n",
              "      <th>area_mean</th>\n",
              "      <th>smoothness_mean</th>\n",
              "      <th>compactness_mean</th>\n",
              "      <th>concavity_mean</th>\n",
              "      <th>concave points_mean</th>\n",
              "      <th>symmetry_mean</th>\n",
              "      <th>fractal_dimension_mean</th>\n",
              "      <th>radius_se</th>\n",
              "      <th>texture_se</th>\n",
              "      <th>perimeter_se</th>\n",
              "      <th>area_se</th>\n",
              "      <th>smoothness_se</th>\n",
              "      <th>compactness_se</th>\n",
              "      <th>concavity_se</th>\n",
              "      <th>concave points_se</th>\n",
              "      <th>symmetry_se</th>\n",
              "      <th>fractal_dimension_se</th>\n",
              "      <th>radius_worst</th>\n",
              "      <th>texture_worst</th>\n",
              "      <th>perimeter_worst</th>\n",
              "      <th>area_worst</th>\n",
              "      <th>smoothness_worst</th>\n",
              "      <th>compactness_worst</th>\n",
              "      <th>concavity_worst</th>\n",
              "      <th>concave points_worst</th>\n",
              "      <th>symmetry_worst</th>\n",
              "      <th>fractal_dimension_worst</th>\n",
              "      <th>Unnamed: 32</th>\n",
              "    </tr>\n",
              "    <tr>\n",
              "      <th>id</th>\n",
              "      <th></th>\n",
              "      <th></th>\n",
              "      <th></th>\n",
              "      <th></th>\n",
              "      <th></th>\n",
              "      <th></th>\n",
              "      <th></th>\n",
              "      <th></th>\n",
              "      <th></th>\n",
              "      <th></th>\n",
              "      <th></th>\n",
              "      <th></th>\n",
              "      <th></th>\n",
              "      <th></th>\n",
              "      <th></th>\n",
              "      <th></th>\n",
              "      <th></th>\n",
              "      <th></th>\n",
              "      <th></th>\n",
              "      <th></th>\n",
              "      <th></th>\n",
              "      <th></th>\n",
              "      <th></th>\n",
              "      <th></th>\n",
              "      <th></th>\n",
              "      <th></th>\n",
              "      <th></th>\n",
              "      <th></th>\n",
              "      <th></th>\n",
              "      <th></th>\n",
              "      <th></th>\n",
              "      <th></th>\n",
              "    </tr>\n",
              "  </thead>\n",
              "  <tbody>\n",
              "    <tr>\n",
              "      <th>874839</th>\n",
              "      <td>B</td>\n",
              "      <td>12.30</td>\n",
              "      <td>15.90</td>\n",
              "      <td>78.83</td>\n",
              "      <td>463.7</td>\n",
              "      <td>0.08080</td>\n",
              "      <td>0.07253</td>\n",
              "      <td>0.038440</td>\n",
              "      <td>0.016540</td>\n",
              "      <td>0.1667</td>\n",
              "      <td>0.05474</td>\n",
              "      <td>0.2382</td>\n",
              "      <td>0.8355</td>\n",
              "      <td>1.687</td>\n",
              "      <td>18.32</td>\n",
              "      <td>0.005996</td>\n",
              "      <td>0.022120</td>\n",
              "      <td>0.021170</td>\n",
              "      <td>0.006433</td>\n",
              "      <td>0.02025</td>\n",
              "      <td>0.001725</td>\n",
              "      <td>13.35</td>\n",
              "      <td>19.59</td>\n",
              "      <td>86.65</td>\n",
              "      <td>546.7</td>\n",
              "      <td>0.10960</td>\n",
              "      <td>0.16500</td>\n",
              "      <td>0.142300</td>\n",
              "      <td>0.04815</td>\n",
              "      <td>0.2482</td>\n",
              "      <td>0.06306</td>\n",
              "      <td>NaN</td>\n",
              "    </tr>\n",
              "    <tr>\n",
              "      <th>916221</th>\n",
              "      <td>B</td>\n",
              "      <td>11.34</td>\n",
              "      <td>18.61</td>\n",
              "      <td>72.76</td>\n",
              "      <td>391.2</td>\n",
              "      <td>0.10490</td>\n",
              "      <td>0.08499</td>\n",
              "      <td>0.043020</td>\n",
              "      <td>0.025940</td>\n",
              "      <td>0.1927</td>\n",
              "      <td>0.06211</td>\n",
              "      <td>0.2430</td>\n",
              "      <td>1.0100</td>\n",
              "      <td>1.491</td>\n",
              "      <td>18.19</td>\n",
              "      <td>0.008577</td>\n",
              "      <td>0.016410</td>\n",
              "      <td>0.020990</td>\n",
              "      <td>0.011070</td>\n",
              "      <td>0.02434</td>\n",
              "      <td>0.001217</td>\n",
              "      <td>12.47</td>\n",
              "      <td>23.03</td>\n",
              "      <td>79.15</td>\n",
              "      <td>478.6</td>\n",
              "      <td>0.14830</td>\n",
              "      <td>0.15740</td>\n",
              "      <td>0.162400</td>\n",
              "      <td>0.08542</td>\n",
              "      <td>0.3060</td>\n",
              "      <td>0.06783</td>\n",
              "      <td>NaN</td>\n",
              "    </tr>\n",
              "    <tr>\n",
              "      <th>868682</th>\n",
              "      <td>B</td>\n",
              "      <td>11.43</td>\n",
              "      <td>15.39</td>\n",
              "      <td>73.06</td>\n",
              "      <td>399.8</td>\n",
              "      <td>0.09639</td>\n",
              "      <td>0.06889</td>\n",
              "      <td>0.035030</td>\n",
              "      <td>0.028750</td>\n",
              "      <td>0.1734</td>\n",
              "      <td>0.05865</td>\n",
              "      <td>0.1759</td>\n",
              "      <td>0.9938</td>\n",
              "      <td>1.143</td>\n",
              "      <td>12.67</td>\n",
              "      <td>0.005133</td>\n",
              "      <td>0.015210</td>\n",
              "      <td>0.014340</td>\n",
              "      <td>0.008602</td>\n",
              "      <td>0.01501</td>\n",
              "      <td>0.001588</td>\n",
              "      <td>12.32</td>\n",
              "      <td>22.02</td>\n",
              "      <td>79.93</td>\n",
              "      <td>462.0</td>\n",
              "      <td>0.11900</td>\n",
              "      <td>0.16480</td>\n",
              "      <td>0.139900</td>\n",
              "      <td>0.08476</td>\n",
              "      <td>0.2676</td>\n",
              "      <td>0.06765</td>\n",
              "      <td>NaN</td>\n",
              "    </tr>\n",
              "    <tr>\n",
              "      <th>877989</th>\n",
              "      <td>M</td>\n",
              "      <td>17.54</td>\n",
              "      <td>19.32</td>\n",
              "      <td>115.10</td>\n",
              "      <td>951.6</td>\n",
              "      <td>0.08968</td>\n",
              "      <td>0.11980</td>\n",
              "      <td>0.103600</td>\n",
              "      <td>0.074880</td>\n",
              "      <td>0.1506</td>\n",
              "      <td>0.05491</td>\n",
              "      <td>0.3971</td>\n",
              "      <td>0.8282</td>\n",
              "      <td>3.088</td>\n",
              "      <td>40.73</td>\n",
              "      <td>0.006090</td>\n",
              "      <td>0.025690</td>\n",
              "      <td>0.027130</td>\n",
              "      <td>0.013450</td>\n",
              "      <td>0.01594</td>\n",
              "      <td>0.002658</td>\n",
              "      <td>20.42</td>\n",
              "      <td>25.84</td>\n",
              "      <td>139.50</td>\n",
              "      <td>1239.0</td>\n",
              "      <td>0.13810</td>\n",
              "      <td>0.34200</td>\n",
              "      <td>0.350800</td>\n",
              "      <td>0.19390</td>\n",
              "      <td>0.2928</td>\n",
              "      <td>0.07867</td>\n",
              "      <td>NaN</td>\n",
              "    </tr>\n",
              "    <tr>\n",
              "      <th>897137</th>\n",
              "      <td>B</td>\n",
              "      <td>11.25</td>\n",
              "      <td>14.78</td>\n",
              "      <td>71.38</td>\n",
              "      <td>390.0</td>\n",
              "      <td>0.08306</td>\n",
              "      <td>0.04458</td>\n",
              "      <td>0.000974</td>\n",
              "      <td>0.002941</td>\n",
              "      <td>0.1773</td>\n",
              "      <td>0.06081</td>\n",
              "      <td>0.2144</td>\n",
              "      <td>0.9961</td>\n",
              "      <td>1.529</td>\n",
              "      <td>15.07</td>\n",
              "      <td>0.005617</td>\n",
              "      <td>0.007124</td>\n",
              "      <td>0.000974</td>\n",
              "      <td>0.002941</td>\n",
              "      <td>0.01700</td>\n",
              "      <td>0.002030</td>\n",
              "      <td>12.76</td>\n",
              "      <td>22.06</td>\n",
              "      <td>82.08</td>\n",
              "      <td>492.7</td>\n",
              "      <td>0.11660</td>\n",
              "      <td>0.09794</td>\n",
              "      <td>0.005518</td>\n",
              "      <td>0.01667</td>\n",
              "      <td>0.2815</td>\n",
              "      <td>0.07418</td>\n",
              "      <td>NaN</td>\n",
              "    </tr>\n",
              "    <tr>\n",
              "      <th>8711216</th>\n",
              "      <td>B</td>\n",
              "      <td>16.84</td>\n",
              "      <td>19.46</td>\n",
              "      <td>108.40</td>\n",
              "      <td>880.2</td>\n",
              "      <td>0.07445</td>\n",
              "      <td>0.07223</td>\n",
              "      <td>0.051500</td>\n",
              "      <td>0.027710</td>\n",
              "      <td>0.1844</td>\n",
              "      <td>0.05268</td>\n",
              "      <td>0.4789</td>\n",
              "      <td>2.0600</td>\n",
              "      <td>3.479</td>\n",
              "      <td>46.61</td>\n",
              "      <td>0.003443</td>\n",
              "      <td>0.026610</td>\n",
              "      <td>0.030560</td>\n",
              "      <td>0.011100</td>\n",
              "      <td>0.01520</td>\n",
              "      <td>0.001519</td>\n",
              "      <td>18.22</td>\n",
              "      <td>28.07</td>\n",
              "      <td>120.30</td>\n",
              "      <td>1032.0</td>\n",
              "      <td>0.08774</td>\n",
              "      <td>0.17100</td>\n",
              "      <td>0.188200</td>\n",
              "      <td>0.08436</td>\n",
              "      <td>0.2527</td>\n",
              "      <td>0.05972</td>\n",
              "      <td>NaN</td>\n",
              "    </tr>\n",
              "    <tr>\n",
              "      <th>895633</th>\n",
              "      <td>M</td>\n",
              "      <td>16.26</td>\n",
              "      <td>21.88</td>\n",
              "      <td>107.50</td>\n",
              "      <td>826.8</td>\n",
              "      <td>0.11650</td>\n",
              "      <td>0.12830</td>\n",
              "      <td>0.179900</td>\n",
              "      <td>0.079810</td>\n",
              "      <td>0.1869</td>\n",
              "      <td>0.06532</td>\n",
              "      <td>0.5706</td>\n",
              "      <td>1.4570</td>\n",
              "      <td>2.961</td>\n",
              "      <td>57.72</td>\n",
              "      <td>0.010560</td>\n",
              "      <td>0.037560</td>\n",
              "      <td>0.058390</td>\n",
              "      <td>0.011860</td>\n",
              "      <td>0.04022</td>\n",
              "      <td>0.006187</td>\n",
              "      <td>17.73</td>\n",
              "      <td>25.21</td>\n",
              "      <td>113.70</td>\n",
              "      <td>975.2</td>\n",
              "      <td>0.14260</td>\n",
              "      <td>0.21160</td>\n",
              "      <td>0.334400</td>\n",
              "      <td>0.10470</td>\n",
              "      <td>0.2736</td>\n",
              "      <td>0.07953</td>\n",
              "      <td>NaN</td>\n",
              "    </tr>\n",
              "    <tr>\n",
              "      <th>894604</th>\n",
              "      <td>B</td>\n",
              "      <td>10.25</td>\n",
              "      <td>16.18</td>\n",
              "      <td>66.52</td>\n",
              "      <td>324.2</td>\n",
              "      <td>0.10610</td>\n",
              "      <td>0.11110</td>\n",
              "      <td>0.067260</td>\n",
              "      <td>0.039650</td>\n",
              "      <td>0.1743</td>\n",
              "      <td>0.07279</td>\n",
              "      <td>0.3677</td>\n",
              "      <td>1.4710</td>\n",
              "      <td>1.597</td>\n",
              "      <td>22.68</td>\n",
              "      <td>0.010490</td>\n",
              "      <td>0.042650</td>\n",
              "      <td>0.040040</td>\n",
              "      <td>0.015440</td>\n",
              "      <td>0.02719</td>\n",
              "      <td>0.007596</td>\n",
              "      <td>11.28</td>\n",
              "      <td>20.61</td>\n",
              "      <td>71.53</td>\n",
              "      <td>390.4</td>\n",
              "      <td>0.14020</td>\n",
              "      <td>0.23600</td>\n",
              "      <td>0.189800</td>\n",
              "      <td>0.09744</td>\n",
              "      <td>0.2608</td>\n",
              "      <td>0.09702</td>\n",
              "      <td>NaN</td>\n",
              "    </tr>\n",
              "    <tr>\n",
              "      <th>8911164</th>\n",
              "      <td>B</td>\n",
              "      <td>11.89</td>\n",
              "      <td>17.36</td>\n",
              "      <td>76.20</td>\n",
              "      <td>435.6</td>\n",
              "      <td>0.12250</td>\n",
              "      <td>0.07210</td>\n",
              "      <td>0.059290</td>\n",
              "      <td>0.074040</td>\n",
              "      <td>0.2015</td>\n",
              "      <td>0.05875</td>\n",
              "      <td>0.6412</td>\n",
              "      <td>2.2930</td>\n",
              "      <td>4.021</td>\n",
              "      <td>48.84</td>\n",
              "      <td>0.014180</td>\n",
              "      <td>0.014890</td>\n",
              "      <td>0.012670</td>\n",
              "      <td>0.019100</td>\n",
              "      <td>0.02678</td>\n",
              "      <td>0.003002</td>\n",
              "      <td>12.40</td>\n",
              "      <td>18.99</td>\n",
              "      <td>79.46</td>\n",
              "      <td>472.4</td>\n",
              "      <td>0.13590</td>\n",
              "      <td>0.08368</td>\n",
              "      <td>0.071530</td>\n",
              "      <td>0.08946</td>\n",
              "      <td>0.2220</td>\n",
              "      <td>0.06033</td>\n",
              "      <td>NaN</td>\n",
              "    </tr>\n",
              "    <tr>\n",
              "      <th>874217</th>\n",
              "      <td>M</td>\n",
              "      <td>18.31</td>\n",
              "      <td>18.58</td>\n",
              "      <td>118.60</td>\n",
              "      <td>1041.0</td>\n",
              "      <td>0.08588</td>\n",
              "      <td>0.08468</td>\n",
              "      <td>0.081690</td>\n",
              "      <td>0.058140</td>\n",
              "      <td>0.1621</td>\n",
              "      <td>0.05425</td>\n",
              "      <td>0.2577</td>\n",
              "      <td>0.4757</td>\n",
              "      <td>1.817</td>\n",
              "      <td>28.92</td>\n",
              "      <td>0.002866</td>\n",
              "      <td>0.009181</td>\n",
              "      <td>0.014120</td>\n",
              "      <td>0.006719</td>\n",
              "      <td>0.01069</td>\n",
              "      <td>0.001087</td>\n",
              "      <td>21.31</td>\n",
              "      <td>26.36</td>\n",
              "      <td>139.20</td>\n",
              "      <td>1410.0</td>\n",
              "      <td>0.12340</td>\n",
              "      <td>0.24450</td>\n",
              "      <td>0.353800</td>\n",
              "      <td>0.15710</td>\n",
              "      <td>0.3206</td>\n",
              "      <td>0.06938</td>\n",
              "      <td>NaN</td>\n",
              "    </tr>\n",
              "  </tbody>\n",
              "</table>\n",
              "</div>\n",
              "      <button class=\"colab-df-convert\" onclick=\"convertToInteractive('df-37df6b76-cd48-4044-af5e-15885cf263ea')\"\n",
              "              title=\"Convert this dataframe to an interactive table.\"\n",
              "              style=\"display:none;\">\n",
              "        \n",
              "  <svg xmlns=\"http://www.w3.org/2000/svg\" height=\"24px\"viewBox=\"0 0 24 24\"\n",
              "       width=\"24px\">\n",
              "    <path d=\"M0 0h24v24H0V0z\" fill=\"none\"/>\n",
              "    <path d=\"M18.56 5.44l.94 2.06.94-2.06 2.06-.94-2.06-.94-.94-2.06-.94 2.06-2.06.94zm-11 1L8.5 8.5l.94-2.06 2.06-.94-2.06-.94L8.5 2.5l-.94 2.06-2.06.94zm10 10l.94 2.06.94-2.06 2.06-.94-2.06-.94-.94-2.06-.94 2.06-2.06.94z\"/><path d=\"M17.41 7.96l-1.37-1.37c-.4-.4-.92-.59-1.43-.59-.52 0-1.04.2-1.43.59L10.3 9.45l-7.72 7.72c-.78.78-.78 2.05 0 2.83L4 21.41c.39.39.9.59 1.41.59.51 0 1.02-.2 1.41-.59l7.78-7.78 2.81-2.81c.8-.78.8-2.07 0-2.86zM5.41 20L4 18.59l7.72-7.72 1.47 1.35L5.41 20z\"/>\n",
              "  </svg>\n",
              "      </button>\n",
              "      \n",
              "  <style>\n",
              "    .colab-df-container {\n",
              "      display:flex;\n",
              "      flex-wrap:wrap;\n",
              "      gap: 12px;\n",
              "    }\n",
              "\n",
              "    .colab-df-convert {\n",
              "      background-color: #E8F0FE;\n",
              "      border: none;\n",
              "      border-radius: 50%;\n",
              "      cursor: pointer;\n",
              "      display: none;\n",
              "      fill: #1967D2;\n",
              "      height: 32px;\n",
              "      padding: 0 0 0 0;\n",
              "      width: 32px;\n",
              "    }\n",
              "\n",
              "    .colab-df-convert:hover {\n",
              "      background-color: #E2EBFA;\n",
              "      box-shadow: 0px 1px 2px rgba(60, 64, 67, 0.3), 0px 1px 3px 1px rgba(60, 64, 67, 0.15);\n",
              "      fill: #174EA6;\n",
              "    }\n",
              "\n",
              "    [theme=dark] .colab-df-convert {\n",
              "      background-color: #3B4455;\n",
              "      fill: #D2E3FC;\n",
              "    }\n",
              "\n",
              "    [theme=dark] .colab-df-convert:hover {\n",
              "      background-color: #434B5C;\n",
              "      box-shadow: 0px 1px 3px 1px rgba(0, 0, 0, 0.15);\n",
              "      filter: drop-shadow(0px 1px 2px rgba(0, 0, 0, 0.3));\n",
              "      fill: #FFFFFF;\n",
              "    }\n",
              "  </style>\n",
              "\n",
              "      <script>\n",
              "        const buttonEl =\n",
              "          document.querySelector('#df-37df6b76-cd48-4044-af5e-15885cf263ea button.colab-df-convert');\n",
              "        buttonEl.style.display =\n",
              "          google.colab.kernel.accessAllowed ? 'block' : 'none';\n",
              "\n",
              "        async function convertToInteractive(key) {\n",
              "          const element = document.querySelector('#df-37df6b76-cd48-4044-af5e-15885cf263ea');\n",
              "          const dataTable =\n",
              "            await google.colab.kernel.invokeFunction('convertToInteractive',\n",
              "                                                     [key], {});\n",
              "          if (!dataTable) return;\n",
              "\n",
              "          const docLinkHtml = 'Like what you see? Visit the ' +\n",
              "            '<a target=\"_blank\" href=https://colab.research.google.com/notebooks/data_table.ipynb>data table notebook</a>'\n",
              "            + ' to learn more about interactive tables.';\n",
              "          element.innerHTML = '';\n",
              "          dataTable['output_type'] = 'display_data';\n",
              "          await google.colab.output.renderOutput(dataTable, element);\n",
              "          const docLink = document.createElement('div');\n",
              "          docLink.innerHTML = docLinkHtml;\n",
              "          element.appendChild(docLink);\n",
              "        }\n",
              "      </script>\n",
              "    </div>\n",
              "  </div>\n",
              "  "
            ],
            "text/plain": [
              "        diagnosis  radius_mean  ...  fractal_dimension_worst  Unnamed: 32\n",
              "id                              ...                                      \n",
              "874839          B        12.30  ...                  0.06306          NaN\n",
              "916221          B        11.34  ...                  0.06783          NaN\n",
              "868682          B        11.43  ...                  0.06765          NaN\n",
              "877989          M        17.54  ...                  0.07867          NaN\n",
              "897137          B        11.25  ...                  0.07418          NaN\n",
              "8711216         B        16.84  ...                  0.05972          NaN\n",
              "895633          M        16.26  ...                  0.07953          NaN\n",
              "894604          B        10.25  ...                  0.09702          NaN\n",
              "8911164         B        11.89  ...                  0.06033          NaN\n",
              "874217          M        18.31  ...                  0.06938          NaN\n",
              "\n",
              "[10 rows x 32 columns]"
            ]
          },
          "metadata": {},
          "execution_count": 4
        }
      ]
    },
    {
      "cell_type": "code",
      "source": [
        "cancer.isnull().sum()\n"
      ],
      "metadata": {
        "colab": {
          "base_uri": "https://localhost:8080/"
        },
        "id": "qnl-WHAEegQ_",
        "outputId": "aa1ab303-20d3-4606-edb6-58c7c39f23d2"
      },
      "execution_count": 5,
      "outputs": [
        {
          "output_type": "execute_result",
          "data": {
            "text/plain": [
              "diagnosis                    0\n",
              "radius_mean                  0\n",
              "texture_mean                 0\n",
              "perimeter_mean               0\n",
              "area_mean                    0\n",
              "smoothness_mean              0\n",
              "compactness_mean             0\n",
              "concavity_mean               0\n",
              "concave points_mean          0\n",
              "symmetry_mean                0\n",
              "fractal_dimension_mean       0\n",
              "radius_se                    0\n",
              "texture_se                   0\n",
              "perimeter_se                 0\n",
              "area_se                      0\n",
              "smoothness_se                0\n",
              "compactness_se               0\n",
              "concavity_se                 0\n",
              "concave points_se            0\n",
              "symmetry_se                  0\n",
              "fractal_dimension_se         0\n",
              "radius_worst                 0\n",
              "texture_worst                0\n",
              "perimeter_worst              0\n",
              "area_worst                   0\n",
              "smoothness_worst             0\n",
              "compactness_worst            0\n",
              "concavity_worst              0\n",
              "concave points_worst         0\n",
              "symmetry_worst               0\n",
              "fractal_dimension_worst      0\n",
              "Unnamed: 32                569\n",
              "dtype: int64"
            ]
          },
          "metadata": {},
          "execution_count": 5
        }
      ]
    },
    {
      "cell_type": "code",
      "source": [
        "cancer['diagnosis'].unique()"
      ],
      "metadata": {
        "colab": {
          "base_uri": "https://localhost:8080/"
        },
        "id": "5ICI6c-3fmzr",
        "outputId": "e937093c-c687-40ec-a405-67bf7ac68752"
      },
      "execution_count": 6,
      "outputs": [
        {
          "output_type": "execute_result",
          "data": {
            "text/plain": [
              "array(['M', 'B'], dtype=object)"
            ]
          },
          "metadata": {},
          "execution_count": 6
        }
      ]
    },
    {
      "cell_type": "code",
      "source": [
        "# Substituir as variáveis categóricas por núméricas\n",
        "diag = {'M':1, 'B':0}\n",
        "cancer.diagnosis = [diag[item] for item in cancer.diagnosis]\n"
      ],
      "metadata": {
        "id": "tN0CCJi9c1MY"
      },
      "execution_count": 7,
      "outputs": []
    },
    {
      "cell_type": "code",
      "source": [
        "# Separar os objetos dos atributos e das classes\n",
        "X = cancer[cancer.columns[1:31]]\n",
        "y = cancer.diagnosis"
      ],
      "metadata": {
        "id": "ebunzD1ugBZd"
      },
      "execution_count": 8,
      "outputs": []
    },
    {
      "cell_type": "code",
      "execution_count": 9,
      "metadata": {
        "id": "-mxoLq62abZH"
      },
      "outputs": [],
      "source": [
        "# Dividindo X e y em conjunto de treino e de teste\n",
        "from sklearn.model_selection  import train_test_split\n",
        "X_train, X_test, y_train, y_test = train_test_split(X, y, test_size=0.3, random_state=0)"
      ]
    },
    {
      "cell_type": "code",
      "execution_count": 10,
      "metadata": {
        "colab": {
          "base_uri": "https://localhost:8080/"
        },
        "id": "nUZkpMl1abZH",
        "outputId": "af5b8bd2-ed02-4fb5-991a-9de32085b275"
      },
      "outputs": [
        {
          "output_type": "stream",
          "name": "stderr",
          "text": [
            "/usr/local/lib/python3.7/dist-packages/sklearn/linear_model/_logistic.py:818: ConvergenceWarning: lbfgs failed to converge (status=1):\n",
            "STOP: TOTAL NO. of ITERATIONS REACHED LIMIT.\n",
            "\n",
            "Increase the number of iterations (max_iter) or scale the data as shown in:\n",
            "    https://scikit-learn.org/stable/modules/preprocessing.html\n",
            "Please also refer to the documentation for alternative solver options:\n",
            "    https://scikit-learn.org/stable/modules/linear_model.html#logistic-regression\n",
            "  extra_warning_msg=_LOGISTIC_SOLVER_CONVERGENCE_MSG,\n"
          ]
        },
        {
          "output_type": "execute_result",
          "data": {
            "text/plain": [
              "LogisticRegression()"
            ]
          },
          "metadata": {},
          "execution_count": 10
        }
      ],
      "source": [
        "# Treinando o modelo de Regressão Logística com o conjunto de treino\n",
        "from sklearn.linear_model import LogisticRegression\n",
        "logreg = LogisticRegression()\n",
        "logreg.fit(X_train, y_train)"
      ]
    },
    {
      "cell_type": "code",
      "execution_count": 11,
      "metadata": {
        "id": "gELGpdT4abZJ"
      },
      "outputs": [],
      "source": [
        "# Fazendo predições da classe das instâncias do conjunto de teste\n",
        "y_pred = logreg.predict(X_test)"
      ]
    },
    {
      "cell_type": "markdown",
      "metadata": {
        "id": "aylTDJFTabZJ"
      },
      "source": [
        "<font color=\"yellow\">**Acurácia de classificação:**</font> porcentagem de predições corretas"
      ]
    },
    {
      "cell_type": "code",
      "execution_count": 13,
      "metadata": {
        "id": "3Rbo_8qlabZK",
        "outputId": "c77c25fd-e515-4f1f-b8de-b56261b3ac53",
        "colab": {
          "base_uri": "https://localhost:8080/"
        }
      },
      "outputs": [
        {
          "output_type": "stream",
          "name": "stdout",
          "text": [
            "0.9590643274853801\n"
          ]
        }
      ],
      "source": [
        "# Calculando a acurácia\n",
        "from sklearn import metrics\n",
        "print(metrics.accuracy_score(y_test, y_pred))"
      ]
    },
    {
      "cell_type": "code",
      "source": [
        "y_test[:15]"
      ],
      "metadata": {
        "colab": {
          "base_uri": "https://localhost:8080/"
        },
        "id": "rNDAyQR_HxNp",
        "outputId": "816d4737-cca0-45d7-ef81-1ecf68dd944d"
      },
      "execution_count": 24,
      "outputs": [
        {
          "output_type": "execute_result",
          "data": {
            "text/plain": [
              "id\n",
              "915691     1\n",
              "9112367    0\n",
              "909410     0\n",
              "892214     0\n",
              "854941     0\n",
              "916221     0\n",
              "90250      0\n",
              "893783     0\n",
              "921092     0\n",
              "898677     0\n",
              "906564     0\n",
              "861648     0\n",
              "905539     0\n",
              "8711216    0\n",
              "861598     0\n",
              "Name: diagnosis, dtype: int64"
            ]
          },
          "metadata": {},
          "execution_count": 24
        }
      ]
    },
    {
      "cell_type": "code",
      "source": [
        "y_pred[:15]"
      ],
      "metadata": {
        "colab": {
          "base_uri": "https://localhost:8080/"
        },
        "id": "eOeqRce-H9Hq",
        "outputId": "90cd605f-d342-4b19-9599-f8700d0bc6b7"
      },
      "execution_count": 25,
      "outputs": [
        {
          "output_type": "execute_result",
          "data": {
            "text/plain": [
              "array([1, 0, 0, 0, 0, 0, 0, 0, 0, 0, 0, 0, 0, 1, 0])"
            ]
          },
          "metadata": {},
          "execution_count": 25
        }
      ]
    },
    {
      "cell_type": "markdown",
      "metadata": {
        "id": "9v_X0iQqabZK"
      },
      "source": [
        "<font color=\"yellow\">**Acurácia Nula:**</font> Acurácia alcançada predizendo sempre a classe mais frequente\n",
        "\n"
      ]
    },
    {
      "cell_type": "code",
      "execution_count": 21,
      "metadata": {
        "id": "yAbK2PGUabZL",
        "outputId": "5e1df632-9451-4f6e-aca4-970cb1f67214",
        "colab": {
          "base_uri": "https://localhost:8080/"
        }
      },
      "outputs": [
        {
          "output_type": "execute_result",
          "data": {
            "text/plain": [
              "0    108\n",
              "1     63\n",
              "Name: diagnosis, dtype: int64"
            ]
          },
          "metadata": {},
          "execution_count": 21
        }
      ],
      "source": [
        "# Examinando a distribuição das classes do conjunto de teste (Utilizando um método do pandas)\n",
        "y_test.value_counts()"
      ]
    },
    {
      "cell_type": "code",
      "execution_count": 22,
      "metadata": {
        "id": "RHJ-m89rabZL",
        "outputId": "d384e7ba-198d-4499-870d-3a1e8b5cc400",
        "colab": {
          "base_uri": "https://localhost:8080/"
        }
      },
      "outputs": [
        {
          "output_type": "stream",
          "name": "stdout",
          "text": [
            "0.631578947368421\n"
          ]
        }
      ],
      "source": [
        "# Calculando a acurácia nula\n",
        "print(108/(108+63))"
      ]
    },
    {
      "cell_type": "markdown",
      "metadata": {
        "id": "devkqXKvabZM"
      },
      "source": [
        "<font color=\"yellow\">**Comparando os valores verdadeiros e preditos**</font>"
      ]
    },
    {
      "cell_type": "code",
      "execution_count": 23,
      "metadata": {
        "id": "Rhs5Z9rUabZM",
        "outputId": "844648b7-26ad-4d6d-e497-668ea33054bd",
        "colab": {
          "base_uri": "https://localhost:8080/"
        }
      },
      "outputs": [
        {
          "output_type": "stream",
          "name": "stdout",
          "text": [
            "[1 0 0 0 0 0 0 0 0 0 0 0 0 0 0]\n",
            "[1 0 0 0 0 0 0 0 0 0 0 0 0 1 0]\n"
          ]
        }
      ],
      "source": [
        "# Visualizando os 15 primeiros resultados verdadeiros e preditos\n",
        "print(y_test.values[:15])\n",
        "print(y_pred[:15])"
      ]
    },
    {
      "cell_type": "markdown",
      "metadata": {
        "id": "2gLC6tObabZM"
      },
      "source": [
        "<font color=\"yellow\">**Conclusão:**</font>\n",
        "\n",
        "- <font color=\"orange\">Acurácia de classificação é a métrica mais fácil de entender</font>\n",
        "\n",
        "- <font color=\"orange\">Porém, ela não nos diz nada a respeito da distribução de classes dos valores de resposta</font>\n",
        "\n",
        "- <font color=\"orange\">Além disso, não nos diz quais tipos de erros nosso classificador está cometendo</font>"
      ]
    },
    {
      "cell_type": "markdown",
      "metadata": {
        "id": "IdZgbN-OabZN"
      },
      "source": [
        "## Matriz de confusão\n",
        "\n",
        "Tabela que descreve a performance de um modelo de classificação"
      ]
    },
    {
      "cell_type": "code",
      "execution_count": 26,
      "metadata": {
        "id": "wedYxl3HabZN",
        "outputId": "78056da9-fc5e-448e-f136-06e59553e4c1",
        "colab": {
          "base_uri": "https://localhost:8080/"
        }
      },
      "outputs": [
        {
          "output_type": "stream",
          "name": "stdout",
          "text": [
            "[[103   5]\n",
            " [  2  61]]\n"
          ]
        }
      ],
      "source": [
        "# Importante: primeiro argumento é valor verdadeiro, segundo argumento é valor predito\n",
        "print(metrics.confusion_matrix(y_test, y_pred))"
      ]
    },
    {
      "cell_type": "markdown",
      "metadata": {
        "id": "_-Wy_QtaabZN"
      },
      "source": [
        "![Small confusion matrix](imagens/matriz_confusao.png)"
      ]
    },
    {
      "cell_type": "markdown",
      "metadata": {
        "id": "0pzslngZabZN"
      },
      "source": [
        "- Cada observação do conjunto de teste está representada em alguma das \"caixas\" \n",
        "- Nesse caso, é uma matriz 2x2, pois temos duas classes possíveis\n",
        "- O formato apresentado aqui não é universal"
      ]
    },
    {
      "cell_type": "markdown",
      "metadata": {
        "id": "Pp4rfzB2abZN"
      },
      "source": [
        "**Terminologia**\n",
        "\n",
        "- **True Positives (TP):** Os verdadeiros positivos, são as predições corretas que o pacientes teve derrame.\n",
        "- **True Negatives (TN):** Os verdadeiros negativos, são as predições corretas que o paciente não teve derrame.\n",
        "- **False Positives (FP):** Os falsos positivos, são as predições incorretas de que o paciente teve derrame.\n",
        "- **False Negatives (FN):** Os falsos negativos, são as predições incorretas de que o paciente não teve derrame."
      ]
    },
    {
      "cell_type": "code",
      "execution_count": null,
      "metadata": {
        "id": "G17fgK8fabZO",
        "outputId": "cd5ab4d3-3ad6-417d-d673-da7787a6de0b"
      },
      "outputs": [
        {
          "data": {
            "image/png": "[encoded data removed]",
            "text/plain": [
              "<Figure size 432x288 with 1 Axes>"
            ]
          },
          "metadata": {
            "needs_background": "light"
          },
          "output_type": "display_data"
        }
      ],
      "source": [
        "import mglearn\n",
        "mglearn.plots.plot_binary_confusion_matrix()"
      ]
    },
    {
      "cell_type": "code",
      "execution_count": null,
      "metadata": {
        "id": "UA8NhHRJabZO"
      },
      "outputs": [],
      "source": [
        "# Salvando a matriz de confusão e fatiando em 4 pedaços\n",
        "confusion = metrics.confusion_matrix(y_test, y_pred)\n",
        "TP = confusion[1,1]\n",
        "TN = confusion[0,0]\n",
        "FP = confusion[0,1]\n",
        "FN = confusion[1,0]"
      ]
    },
    {
      "cell_type": "markdown",
      "metadata": {
        "id": "UfnOgY39abZO"
      },
      "source": [
        "## Métricas calculadas a partir da matriz de confusão"
      ]
    },
    {
      "cell_type": "markdown",
      "metadata": {
        "id": "phoZUF7AabZO"
      },
      "source": [
        "**Acurácia de classificação:** Qual frequente o classificador está correto?"
      ]
    },
    {
      "cell_type": "code",
      "execution_count": null,
      "metadata": {
        "id": "KOW1hK7mabZO",
        "outputId": "27db1587-f82c-4cdb-c746-fe9ca209a2e3"
      },
      "outputs": [
        {
          "name": "stdout",
          "output_type": "stream",
          "text": [
            "0.9649122807017544\n",
            "0.9649122807017544\n"
          ]
        }
      ],
      "source": [
        "# Calculando a acurácia de classificação\n",
        "print((TP+TN)/(TP+TN+FP+FN))\n",
        "print(metrics.accuracy_score(y_test, y_pred))"
      ]
    },
    {
      "cell_type": "markdown",
      "metadata": {
        "id": "IEwfCuquabZO"
      },
      "source": [
        "**Sensibilidade:** Quando o valor real é positivo, quão frequente as predições são corretas?\n"
      ]
    },
    {
      "cell_type": "code",
      "execution_count": null,
      "metadata": {
        "id": "AxhxP5oPabZO",
        "outputId": "c4b9a17b-e099-4037-e82f-559b045d1bd3"
      },
      "outputs": [
        {
          "name": "stdout",
          "output_type": "stream",
          "text": [
            "0.9841269841269841\n",
            "0.9841269841269841\n"
          ]
        }
      ],
      "source": [
        "# Calculando a sensibilidade \n",
        "print(TP/(TP+FN))\n",
        "print(metrics.recall_score(y_test, y_pred))"
      ]
    },
    {
      "cell_type": "markdown",
      "metadata": {
        "id": "YB0EHmj7abZP"
      },
      "source": [
        "**Especificidade:** Quando o valor real é negativo, quão frequente as predições são corretas?"
      ]
    },
    {
      "cell_type": "code",
      "execution_count": null,
      "metadata": {
        "id": "s68xY2uiabZP",
        "outputId": "7970054f-67e2-4251-e684-59f57f62d384"
      },
      "outputs": [
        {
          "name": "stdout",
          "output_type": "stream",
          "text": [
            "0.9537037037037037\n"
          ]
        }
      ],
      "source": [
        "# Calculando a especificidade\n",
        "print(TN/(TN+FP))"
      ]
    },
    {
      "cell_type": "markdown",
      "metadata": {
        "id": "dAdtu4jtabZP"
      },
      "source": [
        "**Conclusão:**\n",
        "\n",
        "- Matriz de confusão nos fornece uma visão geral de como nosso classificador está performando\n",
        "- Também permite que você calcule várias métricas de classificação\n",
        "\n",
        "**Qual métrica eu devo focar?**\n",
        "\n",
        "- A escolha da métrica depende muito do **objetivo do seu projeto**\n",
        "\n",
        "- **Filtro de Spam** (a classe positiva é \"spam\"): Otimize pela precisão ou especificidade, pois os falsos negativos (spam que foram parar na caixa de entrada) são mais aceitáveis que os falsos positivos (emails que não eram spam e foram capturados pelo filtro)\n",
        "\n",
        "- **Detector de transações fraudulentas** (a classe positiva é \"fraude\"): Otimize pela sensibilidade, pois os falsos positivos (transações normais que foram rotuladas como uma possível fraude) são mais aceitáveis que os falsos negativos (transações fraudulentas que não foram detectadas)"
      ]
    },
    {
      "cell_type": "markdown",
      "metadata": {
        "id": "jssHFfuaabZP"
      },
      "source": [
        "## Ajustando o limiar de classificação"
      ]
    },
    {
      "cell_type": "code",
      "execution_count": null,
      "metadata": {
        "id": "M2VtqRWfabZP",
        "outputId": "74e9b28a-c683-4d84-f123-6a5650d15dc7"
      },
      "outputs": [
        {
          "data": {
            "text/plain": [
              "array([1, 0, 0, 0, 0, 0, 0, 0, 0, 0], dtype=int64)"
            ]
          },
          "execution_count": 207,
          "metadata": {},
          "output_type": "execute_result"
        }
      ],
      "source": [
        "# Mostrando as 10 primeiras respostas preditas\n",
        "logreg.predict(X_test)[:10]"
      ]
    },
    {
      "cell_type": "code",
      "execution_count": null,
      "metadata": {
        "id": "012p0aldabZP",
        "outputId": "e4e1f84f-2ac3-4251-eaf1-cd43bd8392cd"
      },
      "outputs": [
        {
          "data": {
            "text/plain": [
              "array([[7.16058269e-03, 9.92839417e-01],\n",
              "       [9.68623029e-01, 3.13769708e-02],\n",
              "       [9.97094581e-01, 2.90541908e-03],\n",
              "       [7.95653071e-01, 2.04346929e-01],\n",
              "       [9.99891760e-01, 1.08239539e-04],\n",
              "       [9.96278415e-01, 3.72158456e-03],\n",
              "       [9.90222915e-01, 9.77708540e-03],\n",
              "       [9.97860241e-01, 2.13975894e-03],\n",
              "       [9.58637559e-01, 4.13624411e-02],\n",
              "       [9.99673088e-01, 3.26911776e-04]])"
            ]
          },
          "execution_count": 209,
          "metadata": {},
          "output_type": "execute_result"
        }
      ],
      "source": [
        "# Mostrando as 10 primeiras probabilidades das respostas preditas relacionadas as classes\n",
        "logreg.predict_proba(X_test)[:10,1]"
      ]
    },
    {
      "cell_type": "code",
      "execution_count": null,
      "metadata": {
        "id": "R29WT8bgabZP"
      },
      "outputs": [],
      "source": [
        "# Armazenando as probabilidades de predição para a classe 1 \n",
        "y_pred_proba = logreg.predict_proba(X_test)[:,1]"
      ]
    },
    {
      "cell_type": "code",
      "execution_count": null,
      "metadata": {
        "id": "t4oeBJlmabZQ",
        "outputId": "a2515d66-dc29-4452-d2de-6ece99268959"
      },
      "outputs": [
        {
          "data": {
            "image/png": "[encoded data removed]",
            "text/plain": [
              "<Figure size 432x288 with 1 Axes>"
            ]
          },
          "metadata": {
            "needs_background": "light"
          },
          "output_type": "display_data"
        }
      ],
      "source": [
        "# Histograma das probabilidades de predição\n",
        "import matplotlib.pyplot as plt\n",
        "plt.hist(y_pred_prob, bins=8)\n",
        "plt.xlim(0,1)\n",
        "plt.title('Histograma das probabilidades das predições')\n",
        "plt.ylabel(\"Frequência\")\n",
        "plt.show()"
      ]
    },
    {
      "cell_type": "code",
      "execution_count": null,
      "metadata": {
        "id": "GrEzB-J5abZQ",
        "outputId": "7623f015-860e-4c9d-f39e-3b826d2ace94"
      },
      "outputs": [
        {
          "name": "stdout",
          "output_type": "stream",
          "text": [
            "[[103   5]\n",
            " [  1  62]]\n"
          ]
        }
      ],
      "source": [
        "# Revendo a matriz de confusão (limiar padrão de 0.5)\n",
        "print(confusion)"
      ]
    },
    {
      "cell_type": "markdown",
      "metadata": {
        "id": "JurYKe_CabZQ"
      },
      "source": [
        "Diminuindo o limiar para predição, aumentamos a sensibilidade do modelo"
      ]
    },
    {
      "cell_type": "code",
      "execution_count": null,
      "metadata": {
        "id": "9dIW6ZGgabZQ"
      },
      "outputs": [],
      "source": [
        "# Predizendo diabetes se a probablidade de diabetes for maior que 0.15\n",
        "from sklearn.preprocessing import binarize\n",
        "y_pred = binarize([y_pred_prob],0.15)[0]"
      ]
    },
    {
      "cell_type": "code",
      "execution_count": null,
      "metadata": {
        "id": "_ARqDIQAabZQ",
        "outputId": "5c81b5c4-45e0-41db-cfb3-f42cb46b1ae3"
      },
      "outputs": [
        {
          "name": "stdout",
          "output_type": "stream",
          "text": [
            "[[93 15]\n",
            " [ 0 63]]\n"
          ]
        }
      ],
      "source": [
        "# Nova matriz de confusão (limiar de 0.15)\n",
        "print(metrics.confusion_matrix(y_test, y_pred))"
      ]
    },
    {
      "cell_type": "code",
      "execution_count": null,
      "metadata": {
        "id": "-y-AUwilabZQ",
        "outputId": "2850ce9b-031e-483c-880e-3a3e5b99ac7a"
      },
      "outputs": [
        {
          "name": "stdout",
          "output_type": "stream",
          "text": [
            "1.0\n"
          ]
        }
      ],
      "source": [
        "# Sensibilidade foi aumentada (era 0.98)\n",
        "print(63/(63+0))"
      ]
    },
    {
      "cell_type": "code",
      "execution_count": null,
      "metadata": {
        "id": "YPYrJ1wmabZQ",
        "outputId": "2752130e-f165-4413-c6d5-773b2fe6141d"
      },
      "outputs": [
        {
          "name": "stdout",
          "output_type": "stream",
          "text": [
            "0.8611111111111112\n"
          ]
        }
      ],
      "source": [
        "# Especificidade foi diminuida (era 0.95)\n",
        "print(93/(93+15))"
      ]
    },
    {
      "cell_type": "markdown",
      "metadata": {
        "id": "kE_Iu-rGabZQ"
      },
      "source": [
        "**Conclusion:**\n",
        "\n",
        "- Limiar de 0.5 é usado como default (para problemas binários) para converter probabilidades de predição em predição de classes\n",
        "- Limiar pode ser ajustado aumentando a sensibilidade ou a especificidade\n",
        "- Sensibilidade e Especificidade são inversamente proporcionais"
      ]
    },
    {
      "cell_type": "markdown",
      "metadata": {
        "id": "MXSu9W_2abZR"
      },
      "source": [
        "## ROC Curves e Area Under the Curve (AUC)\n",
        "\n",
        "Seria legal se a gente conseguisse visualizar como a sensibilidade e especificidade são afetadas por vários limiares, sem ficar tentando um por um?"
      ]
    },
    {
      "cell_type": "code",
      "execution_count": null,
      "metadata": {
        "id": "_qNBJorCabZR",
        "outputId": "f3d973cd-32e5-4e85-fd1f-3e6f6cdb61c2"
      },
      "outputs": [
        {
          "data": {
            "image/png": "[encoded data removed]",
            "text/plain": [
              "<Figure size 432x288 with 1 Axes>"
            ]
          },
          "metadata": {
            "needs_background": "light"
          },
          "output_type": "display_data"
        }
      ],
      "source": [
        "# IMPORTANTE: o primeiro argumento são os valores verdadeiros, segundo argumento são as probabilidades de predição\n",
        "fpr, tpr, thresholds = metrics.roc_curve(y_test, y_pred_prob)\n",
        "plt.plot(fpr, tpr)\n",
        "plt.title('ROC curve')\n",
        "plt.xlabel('1 - Especificidade')\n",
        "plt.ylabel('Sensibilidade')\n",
        "plt.grid(True)\n",
        "plt.show()"
      ]
    },
    {
      "cell_type": "markdown",
      "metadata": {
        "id": "_IVFTREhabZR"
      },
      "source": [
        "- Curva ROC pode te ajudar a escolher um limiar que balanceie sensibilidade e esecificidade de um jeito que faça sentido pra o contexto do seu projeto\n",
        "- Você não pode **ver**, de fato, os limiares usados pra gerar a curva ROC"
      ]
    },
    {
      "cell_type": "code",
      "execution_count": null,
      "metadata": {
        "id": "OpqM8iu3abZR"
      },
      "outputs": [],
      "source": [
        "# Definindo uma função que recebe um limiar e mostra a sensibilidade e especificidade\n",
        "def limiar(threshold):\n",
        "    print('Sensitivity:', tpr[thresholds > threshold][-1])\n",
        "    print('Specificity:', 1 - fpr[thresholds > threshold][-1])"
      ]
    },
    {
      "cell_type": "code",
      "execution_count": null,
      "metadata": {
        "id": "fMCj60vtabZR",
        "outputId": "51eca7d6-c88a-4f4e-da87-51c0afeb274b"
      },
      "outputs": [
        {
          "name": "stdout",
          "output_type": "stream",
          "text": [
            "Sensitivity: 0.9841269841269841\n",
            "Specificity: 0.9814814814814815\n"
          ]
        }
      ],
      "source": [
        "limiar(0.5)"
      ]
    },
    {
      "cell_type": "code",
      "execution_count": null,
      "metadata": {
        "id": "GXH4uMzxabZR",
        "outputId": "c7a728b3-59df-4aef-9f0b-159576cdb554"
      },
      "outputs": [
        {
          "name": "stdout",
          "output_type": "stream",
          "text": [
            "Sensitivity: 1.0\n",
            "Specificity: 0.8703703703703703\n"
          ]
        }
      ],
      "source": [
        "limiar(0.15)"
      ]
    },
    {
      "cell_type": "markdown",
      "metadata": {
        "id": "9Aj-jEA-abZR"
      },
      "source": [
        "AUC é a porcentagem do gráfico que a curva ocupa."
      ]
    },
    {
      "cell_type": "markdown",
      "metadata": {
        "id": "BQcl6ycWabZR"
      },
      "source": [
        "- AUC é usada como uma métrica que resume a performance do classificador.\n",
        "- AUC é bastante útil mesmo quando você tem um dataset desbalanceado."
      ]
    },
    {
      "cell_type": "code",
      "execution_count": null,
      "metadata": {
        "id": "HQnI3aDMabZR",
        "outputId": "ddf55612-17f9-40f7-fef0-cedf16226dc1"
      },
      "outputs": [
        {
          "name": "stdout",
          "output_type": "stream",
          "text": [
            "0.9305555555555556\n"
          ]
        }
      ],
      "source": [
        "# Calculando AUC\n",
        "print(metrics.roc_auc_score(y_test, y_pred))"
      ]
    },
    {
      "cell_type": "markdown",
      "metadata": {
        "id": "tYsQKO5uabZR"
      },
      "source": [
        "**Vantagens da Matriz de Confusão:**\n",
        "\n",
        "- Permite que você calcule uma varidade de métricas*\n",
        "- Muito útil para problemas multiclasses (mais útil do que para problemas binários)\n",
        "\n",
        "**Vantagens da curva ROC e AUC:**\n",
        "\n",
        "- Não é necessário que você configure um limiar de classificação\n",
        "- Ainda é útil para problemas com classes desbalanceadas"
      ]
    },
    {
      "cell_type": "markdown",
      "metadata": {
        "id": "bxXNNACrabZR"
      },
      "source": [
        "## Comentários ou Dúvidas?\n",
        "\n",
        "- Email: <suporte@viniciusgalvaoia.com.br>\n",
        "- Website: http://viniciusgalvaoia.com.br"
      ]
    },
    {
      "cell_type": "code",
      "execution_count": null,
      "metadata": {
        "id": "WQAIqRWiabZS"
      },
      "outputs": [],
      "source": [
        "import warnings\n",
        "warnings.filterwarnings('ignore')\n",
        "%matplotlib inline"
      ]
    },
    {
      "cell_type": "code",
      "execution_count": null,
      "metadata": {
        "id": "vo73McJHabZS",
        "outputId": "a411f96e-5f6d-40a8-ec22-4801a98345ac"
      },
      "outputs": [
        {
          "data": {
            "text/html": [
              "<style>\n",
              "    @font-face {\n",
              "        font-family: \"Computer Modern\";\n",
              "        src: url('http://mirrors.ctan.org/fonts/cm-unicode/fonts/otf/cmunss.otf');\n",
              "    }\n",
              "    div.cell{\n",
              "        width: 90%;\n",
              "/*        margin-left:auto;*/\n",
              "/*        margin-right:auto;*/\n",
              "    }\n",
              "    ul {\n",
              "        line-height: 145%;\n",
              "        font-size: 90%;\n",
              "    }\n",
              "    li {\n",
              "        margin-bottom: 1em;\n",
              "    }\n",
              "    h1 {\n",
              "        font-family: Helvetica, serif;\n",
              "    }\n",
              "    h4{\n",
              "        margin-top: 12px;\n",
              "        margin-bottom: 3px;\n",
              "       }\n",
              "    div.text_cell_render{\n",
              "        font-family: Computer Modern, \"Helvetica Neue\", Arial, Helvetica, Geneva, sans-serif;\n",
              "        line-height: 145%;\n",
              "        font-size: 130%;\n",
              "        width: 90%;\n",
              "        margin-left:auto;\n",
              "        margin-right:auto;\n",
              "    }\n",
              "    .CodeMirror{\n",
              "            font-family: \"Source Code Pro\", source-code-pro,Consolas, monospace;\n",
              "    }\n",
              "/*    .prompt{\n",
              "        display: None;\n",
              "    }*/\n",
              "    .text_cell_render h5 {\n",
              "        font-weight: 300;\n",
              "        font-size: 16pt;\n",
              "        color: #4057A1;\n",
              "        font-style: italic;\n",
              "        margin-bottom: 0.5em;\n",
              "        margin-top: 0.5em;\n",
              "        display: block;\n",
              "    }\n",
              "\n",
              "    .warning{\n",
              "        color: rgb( 240, 20, 20 )\n",
              "        }\n",
              "</style>\n",
              "<script>\n",
              "    MathJax.Hub.Config({\n",
              "                        TeX: {\n",
              "                           extensions: [\"AMSmath.js\"]\n",
              "                           },\n",
              "                tex2jax: {\n",
              "                    inlineMath: [ ['$','$'], [\"\\\\(\",\"\\\\)\"] ],\n",
              "                    displayMath: [ ['$$','$$'], [\"\\\\[\",\"\\\\]\"] ]\n",
              "                },\n",
              "                displayAlign: 'center', // Change this to 'center' to center equations.\n",
              "                \"HTML-CSS\": {\n",
              "                    styles: {'.MathJax_Display': {\"margin\": 4}}\n",
              "                }\n",
              "        });\n",
              "</script>"
            ],
            "text/plain": [
              "<IPython.core.display.HTML object>"
            ]
          },
          "execution_count": 1,
          "metadata": {},
          "output_type": "execute_result"
        }
      ],
      "source": [
        "from IPython.core.display import HTML\n",
        "def css_styling():\n",
        "    styles = open(\"styles/custom.css\", \"r\").read()\n",
        "    return HTML(styles)\n",
        "css_styling()"
      ]
    }
  ],
  "metadata": {
    "kernelspec": {
      "display_name": "Python 3",
      "language": "python",
      "name": "python3"
    },
    "language_info": {
      "codemirror_mode": {
        "name": "ipython",
        "version": 3
      },
      "file_extension": ".py",
      "mimetype": "text/x-python",
      "name": "python",
      "nbconvert_exporter": "python",
      "pygments_lexer": "ipython3",
      "version": "3.6.5"
    },
    "colab": {
      "name": "ROC_AUC_limiar_de_Producao.ipynb",
      "provenance": [],
      "collapsed_sections": [],
      "machine_shape": "hm",
      "include_colab_link": true
    },
    "accelerator": "TPU"
  },
  "nbformat": 4,
  "nbformat_minor": 0
}